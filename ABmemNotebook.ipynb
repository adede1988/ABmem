{
 "cells": [
  {
   "cell_type": "markdown",
   "metadata": {},
   "source": [
    "Analysis of AB interaction with memory"
   ]
  },
  {
   "cell_type": "code",
   "execution_count": 21,
   "metadata": {},
   "outputs": [],
   "source": [
    "#set up the environment\n",
    "import numpy as np\n",
    "import pandas as pd\n",
    "from pandas import DataFrame, Series\n",
    "from os import walk,getcwd\n",
    "import matplotlib.pyplot as plt\n",
    "#custom helper functions for reading in data files and performing key analysis steps\n",
    "%run AB_mem_helper_funcs.py\n",
    "curwd = getcwd()\n",
    "mypath = \"data\"\n",
    "pd.options.mode.chained_assignment = None  # default='warn'"
   ]
  },
  {
   "cell_type": "code",
   "execution_count": 22,
   "metadata": {},
   "outputs": [],
   "source": [
    "#find the data file paths\n",
    "dataFiles = list(walk(mypath))[0][2]\n",
    "dataFiles = Series([curwd + '\\\\' + mypath +'\\\\'+ file for file in dataFiles])\n"
   ]
  },
  {
   "cell_type": "code",
   "execution_count": 23,
   "metadata": {},
   "outputs": [],
   "source": [
    "test = readDataFile(dataFiles[4])"
   ]
  },
  {
   "cell_type": "code",
   "execution_count": 24,
   "metadata": {},
   "outputs": [],
   "source": [
    "#find all the relevant summary stats for each data file\n",
    "allDat = dataFiles.map(readDataFile)"
   ]
  },
  {
   "cell_type": "code",
   "execution_count": 25,
   "metadata": {},
   "outputs": [],
   "source": [
    "#aggregate the summaries into a dataframe\n",
    "df = DataFrame()\n",
    "for row in allDat: \n",
    "    df = df.add(DataFrame(row), fill_value = 0)\n",
    "df = df.T"
   ]
  },
  {
   "cell_type": "code",
   "execution_count": 26,
   "metadata": {},
   "outputs": [
    {
     "data": {
      "text/html": [
       "<div>\n",
       "<style scoped>\n",
       "    .dataframe tbody tr th:only-of-type {\n",
       "        vertical-align: middle;\n",
       "    }\n",
       "\n",
       "    .dataframe tbody tr th {\n",
       "        vertical-align: top;\n",
       "    }\n",
       "\n",
       "    .dataframe thead th {\n",
       "        text-align: right;\n",
       "    }\n",
       "</style>\n",
       "<table border=\"1\" class=\"dataframe\">\n",
       "  <thead>\n",
       "    <tr style=\"text-align: right;\">\n",
       "      <th></th>\n",
       "      <th>Lag1_T1A_T2A_T1</th>\n",
       "      <th>Lag1_T1A_T2A_T2</th>\n",
       "      <th>Lag1_T1A_T2A_T2_T1</th>\n",
       "      <th>Lag1_T1A_T2P_T1</th>\n",
       "      <th>Lag1_T1A_T2P_T2</th>\n",
       "      <th>Lag1_T1A_T2P_T2_T1</th>\n",
       "      <th>Lag1_T1P_T2A_T1</th>\n",
       "      <th>Lag1_T1P_T2A_T2</th>\n",
       "      <th>Lag1_T1P_T2A_T2_T1</th>\n",
       "      <th>Lag1_T1P_T2P_T1</th>\n",
       "      <th>...</th>\n",
       "      <th>Lag5_T1P_T2P_T2_T1</th>\n",
       "      <th>PP1T2_mem</th>\n",
       "      <th>PP1blink_mem</th>\n",
       "      <th>PP1cor_mem</th>\n",
       "      <th>PP1miss_mem</th>\n",
       "      <th>PP5cor_mem</th>\n",
       "      <th>distMem</th>\n",
       "      <th>distracter_mem</th>\n",
       "      <th>novel_mem</th>\n",
       "      <th>targMem</th>\n",
       "    </tr>\n",
       "  </thead>\n",
       "  <tbody>\n",
       "    <tr>\n",
       "      <td>2022-06-28_15h27.56.947</td>\n",
       "      <td>1.0</td>\n",
       "      <td>1.0</td>\n",
       "      <td>1.000000</td>\n",
       "      <td>1.000000</td>\n",
       "      <td>0.678571</td>\n",
       "      <td>0.678571</td>\n",
       "      <td>0.857143</td>\n",
       "      <td>0.892857</td>\n",
       "      <td>0.875000</td>\n",
       "      <td>0.816092</td>\n",
       "      <td>...</td>\n",
       "      <td>0.888889</td>\n",
       "      <td>0.100000</td>\n",
       "      <td>0.625000</td>\n",
       "      <td>0.622222</td>\n",
       "      <td>0.000000</td>\n",
       "      <td>0.593750</td>\n",
       "      <td>0.780591</td>\n",
       "      <td>0.403846</td>\n",
       "      <td>0.886486</td>\n",
       "      <td>0.754153</td>\n",
       "    </tr>\n",
       "    <tr>\n",
       "      <td>2022-06-28_16h39.33.399</td>\n",
       "      <td>1.0</td>\n",
       "      <td>1.0</td>\n",
       "      <td>1.000000</td>\n",
       "      <td>0.964286</td>\n",
       "      <td>0.678571</td>\n",
       "      <td>0.703704</td>\n",
       "      <td>0.857143</td>\n",
       "      <td>0.928571</td>\n",
       "      <td>0.916667</td>\n",
       "      <td>0.965517</td>\n",
       "      <td>...</td>\n",
       "      <td>0.858974</td>\n",
       "      <td>0.000000</td>\n",
       "      <td>0.688889</td>\n",
       "      <td>0.513514</td>\n",
       "      <td>NaN</td>\n",
       "      <td>0.648649</td>\n",
       "      <td>0.852321</td>\n",
       "      <td>0.634615</td>\n",
       "      <td>0.913514</td>\n",
       "      <td>0.794118</td>\n",
       "    </tr>\n",
       "    <tr>\n",
       "      <td>2022-06-29_09h00.40.945</td>\n",
       "      <td>0.8</td>\n",
       "      <td>0.6</td>\n",
       "      <td>0.500000</td>\n",
       "      <td>0.714286</td>\n",
       "      <td>0.892857</td>\n",
       "      <td>0.850000</td>\n",
       "      <td>0.750000</td>\n",
       "      <td>0.357143</td>\n",
       "      <td>0.285714</td>\n",
       "      <td>0.896552</td>\n",
       "      <td>...</td>\n",
       "      <td>0.949367</td>\n",
       "      <td>0.428571</td>\n",
       "      <td>0.800000</td>\n",
       "      <td>0.671429</td>\n",
       "      <td>0.500000</td>\n",
       "      <td>0.465116</td>\n",
       "      <td>0.827004</td>\n",
       "      <td>0.903846</td>\n",
       "      <td>0.805405</td>\n",
       "      <td>0.717949</td>\n",
       "    </tr>\n",
       "    <tr>\n",
       "      <td>2022-06-29_10h01.10.225</td>\n",
       "      <td>0.9</td>\n",
       "      <td>1.0</td>\n",
       "      <td>1.000000</td>\n",
       "      <td>1.000000</td>\n",
       "      <td>0.500000</td>\n",
       "      <td>0.500000</td>\n",
       "      <td>0.821429</td>\n",
       "      <td>0.928571</td>\n",
       "      <td>0.913043</td>\n",
       "      <td>0.908046</td>\n",
       "      <td>...</td>\n",
       "      <td>0.647887</td>\n",
       "      <td>0.750000</td>\n",
       "      <td>0.777778</td>\n",
       "      <td>0.720000</td>\n",
       "      <td>0.000000</td>\n",
       "      <td>0.714286</td>\n",
       "      <td>0.810127</td>\n",
       "      <td>0.461538</td>\n",
       "      <td>0.908108</td>\n",
       "      <td>0.835017</td>\n",
       "    </tr>\n",
       "    <tr>\n",
       "      <td>2022-06-29_12h25.08.771</td>\n",
       "      <td>0.9</td>\n",
       "      <td>1.0</td>\n",
       "      <td>1.000000</td>\n",
       "      <td>0.892857</td>\n",
       "      <td>0.750000</td>\n",
       "      <td>0.760000</td>\n",
       "      <td>0.750000</td>\n",
       "      <td>0.892857</td>\n",
       "      <td>0.904762</td>\n",
       "      <td>0.839080</td>\n",
       "      <td>...</td>\n",
       "      <td>0.933333</td>\n",
       "      <td>0.500000</td>\n",
       "      <td>0.724138</td>\n",
       "      <td>0.761905</td>\n",
       "      <td>0.333333</td>\n",
       "      <td>0.871795</td>\n",
       "      <td>0.738397</td>\n",
       "      <td>0.788462</td>\n",
       "      <td>0.724324</td>\n",
       "      <td>0.737013</td>\n",
       "    </tr>\n",
       "    <tr>\n",
       "      <td>2022-06-29_13h55.44.897</td>\n",
       "      <td>0.9</td>\n",
       "      <td>0.4</td>\n",
       "      <td>0.444444</td>\n",
       "      <td>0.964286</td>\n",
       "      <td>0.857143</td>\n",
       "      <td>0.851852</td>\n",
       "      <td>0.785714</td>\n",
       "      <td>0.571429</td>\n",
       "      <td>0.636364</td>\n",
       "      <td>0.908046</td>\n",
       "      <td>...</td>\n",
       "      <td>0.869565</td>\n",
       "      <td>0.333333</td>\n",
       "      <td>0.640000</td>\n",
       "      <td>0.596154</td>\n",
       "      <td>0.000000</td>\n",
       "      <td>0.593750</td>\n",
       "      <td>0.763713</td>\n",
       "      <td>0.365385</td>\n",
       "      <td>0.875676</td>\n",
       "      <td>0.764120</td>\n",
       "    </tr>\n",
       "    <tr>\n",
       "      <td>2022-06-29_16h26.54.527</td>\n",
       "      <td>0.9</td>\n",
       "      <td>0.8</td>\n",
       "      <td>0.777778</td>\n",
       "      <td>0.928571</td>\n",
       "      <td>0.571429</td>\n",
       "      <td>0.576923</td>\n",
       "      <td>0.678571</td>\n",
       "      <td>0.857143</td>\n",
       "      <td>0.842105</td>\n",
       "      <td>0.850575</td>\n",
       "      <td>...</td>\n",
       "      <td>0.650794</td>\n",
       "      <td>0.444444</td>\n",
       "      <td>0.756098</td>\n",
       "      <td>0.562500</td>\n",
       "      <td>0.000000</td>\n",
       "      <td>0.545455</td>\n",
       "      <td>0.835443</td>\n",
       "      <td>0.596154</td>\n",
       "      <td>0.902703</td>\n",
       "      <td>0.797251</td>\n",
       "    </tr>\n",
       "  </tbody>\n",
       "</table>\n",
       "<p>7 rows × 33 columns</p>\n",
       "</div>"
      ],
      "text/plain": [
       "                         Lag1_T1A_T2A_T1  Lag1_T1A_T2A_T2  Lag1_T1A_T2A_T2_T1  \\\n",
       "2022-06-28_15h27.56.947              1.0              1.0            1.000000   \n",
       "2022-06-28_16h39.33.399              1.0              1.0            1.000000   \n",
       "2022-06-29_09h00.40.945              0.8              0.6            0.500000   \n",
       "2022-06-29_10h01.10.225              0.9              1.0            1.000000   \n",
       "2022-06-29_12h25.08.771              0.9              1.0            1.000000   \n",
       "2022-06-29_13h55.44.897              0.9              0.4            0.444444   \n",
       "2022-06-29_16h26.54.527              0.9              0.8            0.777778   \n",
       "\n",
       "                         Lag1_T1A_T2P_T1  Lag1_T1A_T2P_T2  Lag1_T1A_T2P_T2_T1  \\\n",
       "2022-06-28_15h27.56.947         1.000000         0.678571            0.678571   \n",
       "2022-06-28_16h39.33.399         0.964286         0.678571            0.703704   \n",
       "2022-06-29_09h00.40.945         0.714286         0.892857            0.850000   \n",
       "2022-06-29_10h01.10.225         1.000000         0.500000            0.500000   \n",
       "2022-06-29_12h25.08.771         0.892857         0.750000            0.760000   \n",
       "2022-06-29_13h55.44.897         0.964286         0.857143            0.851852   \n",
       "2022-06-29_16h26.54.527         0.928571         0.571429            0.576923   \n",
       "\n",
       "                         Lag1_T1P_T2A_T1  Lag1_T1P_T2A_T2  Lag1_T1P_T2A_T2_T1  \\\n",
       "2022-06-28_15h27.56.947         0.857143         0.892857            0.875000   \n",
       "2022-06-28_16h39.33.399         0.857143         0.928571            0.916667   \n",
       "2022-06-29_09h00.40.945         0.750000         0.357143            0.285714   \n",
       "2022-06-29_10h01.10.225         0.821429         0.928571            0.913043   \n",
       "2022-06-29_12h25.08.771         0.750000         0.892857            0.904762   \n",
       "2022-06-29_13h55.44.897         0.785714         0.571429            0.636364   \n",
       "2022-06-29_16h26.54.527         0.678571         0.857143            0.842105   \n",
       "\n",
       "                         Lag1_T1P_T2P_T1  ...  Lag5_T1P_T2P_T2_T1  PP1T2_mem  \\\n",
       "2022-06-28_15h27.56.947         0.816092  ...            0.888889   0.100000   \n",
       "2022-06-28_16h39.33.399         0.965517  ...            0.858974   0.000000   \n",
       "2022-06-29_09h00.40.945         0.896552  ...            0.949367   0.428571   \n",
       "2022-06-29_10h01.10.225         0.908046  ...            0.647887   0.750000   \n",
       "2022-06-29_12h25.08.771         0.839080  ...            0.933333   0.500000   \n",
       "2022-06-29_13h55.44.897         0.908046  ...            0.869565   0.333333   \n",
       "2022-06-29_16h26.54.527         0.850575  ...            0.650794   0.444444   \n",
       "\n",
       "                         PP1blink_mem  PP1cor_mem  PP1miss_mem  PP5cor_mem  \\\n",
       "2022-06-28_15h27.56.947      0.625000    0.622222     0.000000    0.593750   \n",
       "2022-06-28_16h39.33.399      0.688889    0.513514          NaN    0.648649   \n",
       "2022-06-29_09h00.40.945      0.800000    0.671429     0.500000    0.465116   \n",
       "2022-06-29_10h01.10.225      0.777778    0.720000     0.000000    0.714286   \n",
       "2022-06-29_12h25.08.771      0.724138    0.761905     0.333333    0.871795   \n",
       "2022-06-29_13h55.44.897      0.640000    0.596154     0.000000    0.593750   \n",
       "2022-06-29_16h26.54.527      0.756098    0.562500     0.000000    0.545455   \n",
       "\n",
       "                          distMem  distracter_mem  novel_mem   targMem  \n",
       "2022-06-28_15h27.56.947  0.780591        0.403846   0.886486  0.754153  \n",
       "2022-06-28_16h39.33.399  0.852321        0.634615   0.913514  0.794118  \n",
       "2022-06-29_09h00.40.945  0.827004        0.903846   0.805405  0.717949  \n",
       "2022-06-29_10h01.10.225  0.810127        0.461538   0.908108  0.835017  \n",
       "2022-06-29_12h25.08.771  0.738397        0.788462   0.724324  0.737013  \n",
       "2022-06-29_13h55.44.897  0.763713        0.365385   0.875676  0.764120  \n",
       "2022-06-29_16h26.54.527  0.835443        0.596154   0.902703  0.797251  \n",
       "\n",
       "[7 rows x 33 columns]"
      ]
     },
     "execution_count": 26,
     "metadata": {},
     "output_type": "execute_result"
    }
   ],
   "source": [
    "df"
   ]
  },
  {
   "cell_type": "code",
   "execution_count": 32,
   "metadata": {},
   "outputs": [],
   "source": [
    "df['blinkMag'] = df['Lag5_T1P_T2P_T2_T1'] - df['Lag1_T1P_T2P_T2_T1']"
   ]
  },
  {
   "cell_type": "code",
   "execution_count": 35,
   "metadata": {},
   "outputs": [
    {
     "data": {
      "text/plain": [
       "(array([2., 0., 0., 0., 1., 2., 0., 0., 1., 1.]),\n",
       " array([0.0023177 , 0.04274527, 0.08317284, 0.12360041, 0.16402798,\n",
       "        0.20445556, 0.24488313, 0.2853107 , 0.32573827, 0.36616584,\n",
       "        0.40659341]),\n",
       " <a list of 10 Patch objects>)"
      ]
     },
     "execution_count": 35,
     "metadata": {},
     "output_type": "execute_result"
    },
    {
     "data": {
      "image/png": "[encoded data removed]",
      "text/plain": [
       "<Figure size 432x288 with 1 Axes>"
      ]
     },
     "metadata": {
      "needs_background": "light"
     },
     "output_type": "display_data"
    }
   ],
   "source": [
    "#how big is the attentional blink we observe? \n",
    "plt.hist(df['blinkMag'])"
   ]
  },
  {
   "cell_type": "code",
   "execution_count": 33,
   "metadata": {},
   "outputs": [
    {
     "data": {
      "text/plain": [
       "<matplotlib.collections.PathCollection at 0x25f789ce1c8>"
      ]
     },
     "execution_count": 33,
     "metadata": {},
     "output_type": "execute_result"
    },
    {
     "data": {
      "image/png": "[encoded data removed]",
      "text/plain": [
       "<Figure size 432x288 with 1 Axes>"
      ]
     },
     "metadata": {
      "needs_background": "light"
     },
     "output_type": "display_data"
    }
   ],
   "source": [
    "#does a bigger attentional blink (worse performance) lead to better memory on a subject level? \n",
    "plt.scatter(df['blinkMag'], df['targMem'])"
   ]
  },
  {
   "cell_type": "code",
   "execution_count": 34,
   "metadata": {},
   "outputs": [
    {
     "data": {
      "text/plain": [
       "(array([1., 1., 0., 1., 1., 0., 0., 1., 0., 2.]),\n",
       " array([-0.03776683, -0.01463039,  0.00850605,  0.03164249,  0.05477893,\n",
       "         0.07791537,  0.1010518 ,  0.12418824,  0.14732468,  0.17046112,\n",
       "         0.19359756]),\n",
       " <a list of 10 Patch objects>)"
      ]
     },
     "execution_count": 34,
     "metadata": {},
     "output_type": "execute_result"
    },
    {
     "data": {
      "image/png": "[encoded data removed]",
      "text/plain": [
       "<Figure size 432x288 with 1 Axes>"
      ]
     },
     "metadata": {
      "needs_background": "light"
     },
     "output_type": "display_data"
    }
   ],
   "source": [
    "#does spending more time (and causing an attentional blink) on T1 lead to better memory on an item level? \n",
    "plt.hist(df['PP1blink_mem'] - df['PP1cor_mem'])"
   ]
  },
  {
   "cell_type": "code",
   "execution_count": null,
   "metadata": {},
   "outputs": [],
   "source": []
  }
 ],
 "metadata": {
  "kernelspec": {
   "display_name": "Python 3",
   "language": "python",
   "name": "python3"
  },
  "language_info": {
   "codemirror_mode": {
    "name": "ipython",
    "version": 3
   },
   "file_extension": ".py",
   "mimetype": "text/x-python",
   "name": "python",
   "nbconvert_exporter": "python",
   "pygments_lexer": "ipython3",
   "version": "3.7.4"
  }
 },
 "nbformat": 4,
 "nbformat_minor": 2
}
